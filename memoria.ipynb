{
 "cells": [
  {
   "attachments": {},
   "cell_type": "markdown",
   "metadata": {},
   "source": [
    "### TÍTULO"
   ]
  },
  {
   "cell_type": "code",
   "execution_count": null,
   "metadata": {},
   "outputs": [],
   "source": [
    "\"SirAlatriste's Comeback From Downtown\""
   ]
  },
  {
   "attachments": {},
   "cell_type": "markdown",
   "metadata": {},
   "source": [
    "### TEMA"
   ]
  },
  {
   "cell_type": "code",
   "execution_count": null,
   "metadata": {},
   "outputs": [],
   "source": [
    "\"Análisis y futuro de mi canal de Youtube de juegos de estrategia e historia\""
   ]
  },
  {
   "attachments": {},
   "cell_type": "markdown",
   "metadata": {},
   "source": [
    "### HIPÓTESIS"
   ]
  },
  {
   "attachments": {},
   "cell_type": "markdown",
   "metadata": {},
   "source": [
    "Define aquí lo que será la hipótesis de tu proyecto.\n",
    "Deberás tener más de una, pero tu proyecto lo harás teniendo una principal hipótesis."
   ]
  },
  {
   "cell_type": "code",
   "execution_count": null,
   "metadata": {},
   "outputs": [],
   "source": [
    "# HIPÉTESIS PRINCIPAL\n",
    "hipotesis_1 = \"Lo primero y principal es saber qué videos son los que más potencial tienen para que haga más del tema y, sobretodo, para tener una comunidad sólida en el futuro\""
   ]
  },
  {
   "cell_type": "code",
   "execution_count": null,
   "metadata": {},
   "outputs": [],
   "source": [
    "hipotesis_2 = \"Me gustaría saber qué serie/playlist/campaña es la más vista de las que he hecho y hacerla otra vez con mejoras\"\n",
    "hipotesis_3 = \"Después me gustaría conocer en profundidad otros datos interesantes para conocer mi tipo de público y ganar en visibilidad y en calidad\"\n",
    "\n",
    "\"\"\" Todos los apartados del EDA \"\"\"\n",
    "\"\"\" -Apartado 1: He hecho una relación entre 'Impresiones' y 'Porcentaje de clics de las impresiones'. No me detectaba al principio los floats que llevan una coma y he tenido que cambiar el codigo para que me lo leyese de mis columnas de google sheets.\n",
    "-Apartado 2: Queda claro con este gráfico cuales son los años de mayor producción del canal. He hecho anotaciones indicando el porqué de tan pocos vídeos en x años.\n",
    "-Apartado 3: para calcular el promedio me gusta no me gusta... pero no me convence esto y LO VOY A CAMBIAR\n",
    "-Apartado 4: He sacado todas las coordenadas de los paises que han visto alguna vez mi canal y lo he metido en un google sheets para poder usar folium, pero no me era compatible ya que google sheets no he conseguido que detectase las coordenadas (40.03 de latitud, por ejemplo, me lo ponia como 4.003). He conseguido hacer el folium del mapa después de tanto tiempo, el unico problemilla es que España se ve demasiado grande y el círculo no esta centrado porque ocuparia un monton. El color de los circulos es el de mi canal: '#4869e3' el verde es '#11CA38'\n",
    "-Apartado 5: He conseguido ver los datos de los sistemas operativos a través de los cuales se han visto los videos del canal. Me ha costado hacerlo y aún así no está perfecto, pero bueno esto es ya un Plotly. Lo he metido en html a la página web, me parece muy útil .\n",
    "-Apartado 6: He tenido que volver a pasar los datos de numeros con comas a numeros con puntos para que me detecte python el orden correcto de los números, está siendo una constante este problemilla que resta tiempo para otras cosas. He ordenado los valores de menor a mayor de duración media de las visualizaciones ya no puedo estar haciendo un archivo distinto de excel para cada columna... Se ve en este gráfico más claramente cual es la \"calidad\" digamos de mis vídeos.\n",
    "-Apartado 7: La verdad que este gráfico me deja con buen sabor de boca, ya que tengo al menos 8 comentarios por video aproximadamente.\n",
    "-Apartado 8: no me convence. este y el 3. si veis que es mucho dato podria no arreglarlo y ya esta. que 10 minutos no dan para mucho.\n",
    "-Apartado 9: Estuve fusionando filas de cara a que me saliese una pie decente... Pero se queda de una manera sencilla la visualizacion (que es lo importante) de cual es la edad de mi comunidad del canal.\n",
    "-Apartado 10: Después de mucho fallar poniendo los parámetros al final he conseguido plasmar las palabras que más se han repetido en los títulos de mi canal. Muy visual, podría resumirse la mitad del EDA en este gráfico.\n",
    "-Apartado 11: Visualizaciones de mis top 50 videos del canal. He tenido que acortar el titulo de los videos en la x del grafico porque hay algunos que son largos.\n",
    "-Apartado 12: heatmap de todas las variables de los datos de los videos... esto lo pondré junto a las otras que tratan el tema de los videos en particular\n",
    "-Apartado 13: origen de las suscripciones del canal con unas stacked column chart. He usado el rojo (#Ff0000) para que se vea mejor donde he perdido suscriptores.\n",
    "-Apartado 14: Días más gloriosos del canal de SirAlatriste en función de: Comentarios añadidos Suscriptores, Visualizaciones, Tiempo de visualización (horas) y Duración media de las visualizaciones... He usado lo que habia que usar, plotly, pero con markers en vez de lineas que es como lo habia usado en otro apartado\n",
    "-Apartado 15: playlist más vistas del canal. tengo ganas de saber cual es la mejor campaña que he hecho en tomas de audiencia... a mi no me gusta hacer videos sueltos sino que me gusta una serie entera para crear comunidad... me gustaria que fuese más dinamico\"\"\" \"\"\""
   ]
  },
  {
   "attachments": {},
   "cell_type": "markdown",
   "metadata": {},
   "source": [
    "## OBTENCIÓN DE LOS DATOS"
   ]
  },
  {
   "attachments": {},
   "cell_type": "markdown",
   "metadata": {},
   "source": [
    "### DATASETS Y FUENTES ALTERNATIVAS DE DATOS"
   ]
  },
  {
   "attachments": {},
   "cell_type": "markdown",
   "metadata": {},
   "source": [
    "He hecho limpieza de datos aparte de seleccionando entre los muchísimos datos que poco a poco me iba dando YouTube, aquellos que eran más útiles de entre todos los que había; una vez he sacado los datos he eliminado de cada uno de estos las columnas que no daban juego. \n",
    "He juntado toda la información en un mismo Google Drive con varias hojas para desde ahí manejar todos los datos y no volverme loco.\n",
    "\n",
    "Cada apartado de estos implicaba un archivo de Jupyter Notebook distinto que he juntado. \n",
    "He cambiado el google sheets para que esté en formato americano para que lea los decimales con puntos... Me estaba dando muchos problemas y de hecho tenía que usar una funcion cada vez que tenía que pasar las comas a puntos..."
   ]
  },
  {
   "cell_type": "code",
   "execution_count": null,
   "metadata": {},
   "outputs": [],
   "source": [
    "\"\"\" FUENTE EDA YOUTUBE SIRALATRISTE \"\"\"\n",
    "#se tienen que ir escogiendo los datos y creo que hay que estar dentro de mi cuenta del canal de youtube para poder visualizar los datos\n",
    "fuente_principal = \"https://studio.youtube.com/channel/UC90VRExx7Ava-dBAangLq6g/analytics/tab-overview/period-default/explore?entity_type=CHANNEL&entity_id=UC90VRExx7Ava-dBAangLq6g&time_period=4_weeks&explore_type=TABLE_AND_CHART&metric=VIEWS&granularity=DAY&t_metrics=VIEWS&t_metrics=WATCH_TIME&t_metrics=SUBSCRIBERS_NET_CHANGE&t_metrics=TOTAL_ESTIMATED_EARNINGS&t_metrics=VIDEO_THUMBNAIL_IMPRESSIONS&t_metrics=VIDEO_THUMBNAIL_IMPRESSIONS_VTR&dimension=VIDEO&o_column=VIEWS&o_direction=ANALYTICS_ORDER_DIRECTION_DESC\""
   ]
  },
  {
   "cell_type": "code",
   "execution_count": 17,
   "metadata": {},
   "outputs": [
    {
     "data": {
      "text/html": [
       "<div>\n",
       "<style scoped>\n",
       "    .dataframe tbody tr th:only-of-type {\n",
       "        vertical-align: middle;\n",
       "    }\n",
       "\n",
       "    .dataframe tbody tr th {\n",
       "        vertical-align: top;\n",
       "    }\n",
       "\n",
       "    .dataframe thead th {\n",
       "        text-align: right;\n",
       "    }\n",
       "</style>\n",
       "<table border=\"1\" class=\"dataframe\">\n",
       "  <thead>\n",
       "    <tr style=\"text-align: right;\">\n",
       "      <th></th>\n",
       "      <th>Contenido</th>\n",
       "      <th>Título del vídeo</th>\n",
       "      <th>Hora de publicación del vídeo</th>\n",
       "      <th>Visualizaciones</th>\n",
       "      <th>Tiempo de visualización (horas)</th>\n",
       "      <th>Suscriptores</th>\n",
       "      <th>Duración media de las visualizaciones</th>\n",
       "      <th>Impresiones</th>\n",
       "      <th>Porcentaje de clics de las impresiones (%)</th>\n",
       "    </tr>\n",
       "  </thead>\n",
       "  <tbody>\n",
       "    <tr>\n",
       "      <th>0</th>\n",
       "      <td>Total</td>\n",
       "      <td>NaN</td>\n",
       "      <td>NaN</td>\n",
       "      <td>289273.0</td>\n",
       "      <td>10423.7646</td>\n",
       "      <td>1136.0</td>\n",
       "      <td>0:02:09</td>\n",
       "      <td>1187181.0</td>\n",
       "      <td>5.15</td>\n",
       "    </tr>\n",
       "    <tr>\n",
       "      <th>1</th>\n",
       "      <td>b9vJE4kxYYI</td>\n",
       "      <td>El ejército que nunca se rendía - El último te...</td>\n",
       "      <td>Mar 2, 2015</td>\n",
       "      <td>47210.0</td>\n",
       "      <td>1580.8846</td>\n",
       "      <td>25.0</td>\n",
       "      <td>0:02:00</td>\n",
       "      <td>62129.0</td>\n",
       "      <td>8.69</td>\n",
       "    </tr>\n",
       "    <tr>\n",
       "      <th>2</th>\n",
       "      <td>3EnjcATrb-U</td>\n",
       "      <td>Formación tortuga romana con legionarios - Rom...</td>\n",
       "      <td>Feb 20, 2015</td>\n",
       "      <td>36195.0</td>\n",
       "      <td>540.5963</td>\n",
       "      <td>42.0</td>\n",
       "      <td>0:00:53</td>\n",
       "      <td>162259.0</td>\n",
       "      <td>10.79</td>\n",
       "    </tr>\n",
       "    <tr>\n",
       "      <th>3</th>\n",
       "      <td>sxtPaMe2huA</td>\n",
       "      <td>IMPERIUM III HD BETA - Novedades y Steam [2019]</td>\n",
       "      <td>May 2, 2018</td>\n",
       "      <td>13444.0</td>\n",
       "      <td>274.9732</td>\n",
       "      <td>34.0</td>\n",
       "      <td>0:01:13</td>\n",
       "      <td>23061.0</td>\n",
       "      <td>8.49</td>\n",
       "    </tr>\n",
       "    <tr>\n",
       "      <th>4</th>\n",
       "      <td>DC2SqLBW31U</td>\n",
       "      <td>NOVEDADES IMPERIVM III - Resolución, Steam y o...</td>\n",
       "      <td>Aug 21, 2017</td>\n",
       "      <td>12004.0</td>\n",
       "      <td>436.2471</td>\n",
       "      <td>42.0</td>\n",
       "      <td>0:02:10</td>\n",
       "      <td>45372.0</td>\n",
       "      <td>10.11</td>\n",
       "    </tr>\n",
       "  </tbody>\n",
       "</table>\n",
       "</div>"
      ],
      "text/plain": [
       "     Contenido                                   Título del vídeo   \n",
       "0        Total                                                NaN  \\\n",
       "1  b9vJE4kxYYI  El ejército que nunca se rendía - El último te...   \n",
       "2  3EnjcATrb-U  Formación tortuga romana con legionarios - Rom...   \n",
       "3  sxtPaMe2huA    IMPERIUM III HD BETA - Novedades y Steam [2019]   \n",
       "4  DC2SqLBW31U  NOVEDADES IMPERIVM III - Resolución, Steam y o...   \n",
       "\n",
       "  Hora de publicación del vídeo  Visualizaciones   \n",
       "0                           NaN         289273.0  \\\n",
       "1                   Mar 2, 2015          47210.0   \n",
       "2                  Feb 20, 2015          36195.0   \n",
       "3                   May 2, 2018          13444.0   \n",
       "4                  Aug 21, 2017          12004.0   \n",
       "\n",
       "   Tiempo de visualización (horas)  Suscriptores   \n",
       "0                       10423.7646        1136.0  \\\n",
       "1                        1580.8846          25.0   \n",
       "2                         540.5963          42.0   \n",
       "3                         274.9732          34.0   \n",
       "4                         436.2471          42.0   \n",
       "\n",
       "  Duración media de las visualizaciones  Impresiones   \n",
       "0                               0:02:09    1187181.0  \\\n",
       "1                               0:02:00      62129.0   \n",
       "2                               0:00:53     162259.0   \n",
       "3                               0:01:13      23061.0   \n",
       "4                               0:02:10      45372.0   \n",
       "\n",
       "   Porcentaje de clics de las impresiones (%)  \n",
       "0                                        5.15  \n",
       "1                                        8.69  \n",
       "2                                       10.79  \n",
       "3                                        8.49  \n",
       "4                                       10.11  "
      ]
     },
     "execution_count": 17,
     "metadata": {},
     "output_type": "execute_result"
    }
   ],
   "source": [
    "# Dataset Youtube sin haber hecho limpieza. NO se ejecuta este archivo.\n",
    "df1 = pd.read_excel('YouTube SirAlatriste.xlsx')\n",
    "df1.to_excel('YouTube SirAlatriste.xlsx', index=False)\n",
    "\n",
    "df1.head()"
   ]
  }
 ],
 "metadata": {
  "kernelspec": {
   "display_name": "Python 3.7.4 64-bit",
   "language": "python",
   "name": "python3"
  },
  "language_info": {
   "codemirror_mode": {
    "name": "ipython",
    "version": 3
   },
   "file_extension": ".py",
   "mimetype": "text/x-python",
   "name": "python",
   "nbconvert_exporter": "python",
   "pygments_lexer": "ipython3",
   "version": "3.11.3"
  },
  "orig_nbformat": 4,
  "vscode": {
   "interpreter": {
    "hash": "90139cb9a825bf3d63f6f6704e828dbd1ff7edbd4d0c6e906a71235d6efc74af"
   }
  }
 },
 "nbformat": 4,
 "nbformat_minor": 2
}
