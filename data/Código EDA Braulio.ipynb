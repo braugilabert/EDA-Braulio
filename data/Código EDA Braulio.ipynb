{
 "cells": [
  {
   "cell_type": "code",
   "execution_count": null,
   "metadata": {},
   "outputs": [],
   "source": [
    "# Análisis de la relación entre 'Impresiones' y 'Porcentaje de clics de las impresiones'. EDA 1.\n",
    "import pandas as pd\n",
    "import matplotlib.pyplot as plt\n",
    "import seaborn as sns\n",
    "\n",
    "df = pd.read_csv('YouTube SirAlatriste datos.csv')\n",
    "\n",
    "# un scatter plot con seaborn\n",
    "plt.figure(figsize=(10, 6))\n",
    "sns.scatterplot(data=df, x='Impresiones', y='Porcentaje de clics de las impresiones (%)', color='#4869e3')\n",
    "\n",
    "# línea de tendencia\n",
    "sns.regplot(data=df, x='Impresiones', y='Porcentaje de clics de las impresiones (%)', scatter=False)\n",
    "\n",
    "# títulos y etiquetas\n",
    "plt.title('Relación entre Impresiones y Porcentaje de clics de las impresiones (%)')\n",
    "plt.xlabel('Impresiones')\n",
    "plt.ylabel('Porcentaje de clics de las impresiones (%)')\n",
    "plt.ylim(0, 15)\n",
    "plt.xlim(0, 75000)\n",
    "\n",
    "plt.show()"
   ]
  },
  {
   "cell_type": "code",
   "execution_count": null,
   "metadata": {},
   "outputs": [],
   "source": [
    "#EDA 2. Todos los videos del canal, fecha.\n",
    "import pandas as pd\n",
    "import matplotlib.pyplot as plt\n",
    "from datetime import datetime\n",
    "\n",
    "df = pd.read_csv('YouTube SirAlatriste datos.csv')\n",
    "\n",
    "fechas = df['Fecha']\n",
    "\n",
    "#convierte las fechas a objetos de fecha y hora\n",
    "fechas = [datetime.strptime(fecha, '%b %d, %Y') for fecha in fechas]\n",
    "\n",
    "#extrae el año de cada fecha\n",
    "años = [fecha.year for fecha in fechas]\n",
    "\n",
    "#aqui se crea una serie de pandas con los años\n",
    "años = pd.Series(años)\n",
    "\n",
    "media = años.value_counts().mean()\n",
    "\n",
    "#para crear un gráfico de barras con los años\n",
    "años.value_counts().sort_index().plot(kind='bar', x='Videos realizados', y= 'Año')\n",
    "\n",
    "#Dibujar una línea horizontal en el valor de la media\n",
    "plt.axhline(media, color='#11CA38', linestyle='--')\n",
    "\n",
    "# así se agrega una etiqueta con el valor de la media\n",
    "plt.text(5, media + 0.5, f'Media: {media:.0f}', color='#11CA38')\n",
    "plt.text(5.6, 4.5, 'Irlanda', color='black')\n",
    "plt.text(4.75, 27.5, 'TFG', color='black')\n",
    "\n",
    "plt.ylabel('Videos realizados por año')\n",
    "\n",
    "plt.show()"
   ]
  },
  {
   "cell_type": "code",
   "execution_count": null,
   "metadata": {},
   "outputs": [],
   "source": [
    "#HAY QUE ARREGLARLO, NO SE QUÉ GRAFICA USAR. EDA 3.\n",
    "import pandas as pd\n",
    "import matplotlib.pyplot as plt\n",
    "import seaborn as sns\n",
    "\n",
    "data = pd.read_csv('YouTube SirAlatriste datos.csv')\n",
    "\n",
    "# configura el estilo de los gráficos de seaborn\n",
    "sns.set(style='whitegrid')\n",
    "\n",
    "# para calcular el promedio me gusta no me gusta\n",
    "like_dislike_percentage = data['Me gusta (vs. No me gusta) (%)'].mean()\n",
    "\n",
    "labels = ['Me gusta', 'No me gusta']\n",
    "\n",
    "values = [like_dislike_percentage, 100 - like_dislike_percentage]\n",
    "\n",
    "# hay que convertir los valores a cadenas de texto antes de concatenar\n",
    "values = [str(round(value, 2)) + '%' for value in values]\n",
    "\n",
    "plt.bar(labels, values)\n",
    "plt.title('Porcentaje de Me gusta vs. No me gusta')\n",
    "plt.ylabel('Porcentaje')\n",
    "plt.show()\n"
   ]
  },
  {
   "cell_type": "code",
   "execution_count": null,
   "metadata": {},
   "outputs": [],
   "source": [
    "#EDA 4\n",
    "import folium\n",
    "import pandas as pd\n",
    "\n",
    "#DataFrame con los datos\n",
    "data = {\n",
    "    'Área geográfica': ['Total', 'ES', 'BR', 'KR', 'MX', 'AR', 'US', 'TR', 'VN', 'CL', 'RU', 'DE', 'PE', 'CO', 'TW', 'PL', 'FR', 'ID', 'PH', 'CA', 'IT', 'GB', 'TH', 'PT', 'JP', 'SE', 'IN', 'BO', 'GR', 'AU', 'HK', 'EC', 'VE', 'RO', 'CZ', 'NL', 'MY', 'UA', 'RS', 'EG', 'KZ', 'DK', 'CR', 'HU', 'AT', 'DO', 'UY', 'BE', 'SG', 'CH', 'PA', 'BG', 'HR', 'GT', 'MM', 'NO', 'SA', 'PR', 'SK', 'SV', 'PY', 'BY', 'IL', 'TN', 'UZ', 'GE', 'FI', 'IQ', 'KG', 'ZA', 'HN', 'DZ', 'KH', 'MD', 'LT', 'NZ', 'BD', 'MA', 'CY', 'IE', 'NI'],\n",
    "    'Visualizaciones': [289311, 111935, 21084, 12003, 7709, 4507, 4198, 3756, 2887, 2883, 1963, 1759, 1739, 1715, 1404, 1392, 1310, 1159, 1001, 847, 820, 732, 618, 502, 487, 350, 349, 324, 299, 295, 281, 266, 262, 252, 251, 251, 250, 188, 176, 145, 143, 139, 138, 131, 121, 120, 114, 108, 101, 93, 78, 74, 65, 54, 53, 51, 50, 48, 44, 43, 40, 36, 35, 35, 34, 33, 31, 28, 27, 24, 23, 21, 17, 14, 13, 13, 12, 12, 11, 10, 10]\n",
    "}\n",
    "\n",
    "df = pd.DataFrame(data)\n",
    "\n",
    "# Coordenadas de los países\n",
    "coordenadas = {\n",
    "    'ES': [-3.749220, 40.463667],\n",
    "    'BR': [-14.235004, -51.925280],\n",
    "    'KR': [35.907757, 127.766922],\n",
    "    'MX': [23.634501, -102.552784],\n",
    "    'AR': [-38.416097, -63.616672],\n",
    "    'US': [37.090240, -95.712891],\n",
    "    'TR': [38.963745, 35.243322],\n",
    "    'VN': [14.058324, 108.277199],\n",
    "    'CL': [-35.675147, -71.542969],\n",
    "    'RU': [61.524010, 105.318756],\n",
    "    'DE': [51.165691, 10.451526],\n",
    "    'PE': [-9.189967, -75.015152],\n",
    "    'CO': [4.570868, -74.297333],\n",
    "    'TW': [23.697810, 120.960515],\n",
    "    'PL': [51.919438, 19.145136],\n",
    "    'FR': [46.603354, 1.888334],\n",
    "    'ID': [-0.789275, 113.921327],\n",
    "    'PH': [12.879721, 121.774017],\n",
    "    'CA': [56.130366, -106.346771],\n",
    "    'IT': [41.871940, 12.567380],\n",
    "    'GB': [55.378051, -3.435973],\n",
    "    'TH': [15.870032, 100.992541],\n",
    "    'PT': [39.399872, -8.224454],\n",
    "    'JP': [36.204824, 138.252924],\n",
    "    'SE': [60.128161, 18.643501],\n",
    "    'IN': [20.593684, 78.962880],\n",
    "    'BO': [-16.290154, -63.588653],\n",
    "    'GR': [39.074208, 21.824312],\n",
    "    'AU': [-25.274398, 133.775136],\n",
    "    'HK': [22.396428, 114.109497],\n",
    "    'EC': [-1.831239, -78.183406],\n",
    "    'VE': [6.423750, -66.589730],\n",
    "    'RO': [45.943161, 24.966760],\n",
    "    'CZ': [49.817492, 15.472962],\n",
    "    'NL': [52.132633, 5.291266],\n",
    "    'MY': [4.210484, 101.975769],\n",
    "    'UA': [48.379433, 31.165580],\n",
    "    'RS': [44.016521, 21.005859],\n",
    "    'EG': [26.820553, 30.802498],\n",
    "    'KZ': [48.019573, 66.923684],\n",
    "    'DK': [56.263920, 9.501785],\n",
    "    'CR': [9.748917, -83.753428],\n",
    "    'HU': [47.162494, 19.503304],\n",
    "    'AT': [47.516231, 14.550072],\n",
    "    'DO': [18.735693, -70.162651],\n",
    "    'UY': [-32.522779, -55.765835],\n",
    "    'BE': [50.503887, 4.469936],\n",
    "    'SG': [1.352083, 103.819836],\n",
    "    'CH': [46.818188, 8.227512],\n",
    "    'PA': [8.537981, -80.782127],\n",
    "    'BG': [42.733883, 25.485830],\n",
    "    'HR': [45.1, 15.2],\n",
    "    'GT': [15.783471, -90.230759],\n",
    "    'MM': [21.913965, 95.956223],\n",
    "    'NO': [60.472024, 8.468946],\n",
    "    'SA': [23.885942, 45.079162],\n",
    "    'PR': [18.220833, -66.590149],\n",
    "    'SK': [48.669026, 19.699024],\n",
    "    'SV': [13.794185, -88.896530],\n",
    "    'PY': [-23.442503, -58.443832],\n",
    "    'BY': [53.709807, 27.953389],\n",
    "    'IL': [31.046051, 34.851612],\n",
    "    'TN': [33.886917, 9.537499],\n",
    "    'UZ': [41.377491, 64.585262],\n",
    "    'GE': [42.315407, 43.356892],\n",
    "    'FI': [61.924110, 25.748151],\n",
    "    'IQ': [33.223191, 43.679291],\n",
    "    'KG': [41.204380, 74.766098],\n",
    "    'ZA': [-30.559482, 22.937506],\n",
    "    'HN': [15.199999, -86.241905],\n",
    "    'DZ': [28.033886, 1.659626],\n",
    "    'KH': [12.565679, 104.990963],\n",
    "    'MD': [47.411631, 28.369885],\n",
    "    'LT': [55.169438, 23.881275],\n",
    "    'NZ': [-40.900557, 174.885971],\n",
    "    'BD': [23.684994, 90.356331],\n",
    "    'MA': [31.791702, -7.092620],\n",
    "    'CY': [35.126413, 33.429859],\n",
    "    'IE': [53.412910, -8.243890],\n",
    "    'NI': [12.865416, -85.207229]\n",
    "}\n",
    "\n",
    "# para crear un mapa centrado en las coordenadas globales\n",
    "m = folium.Map(location=[0, 0], zoom_start=2)\n",
    "\n",
    "# para agregar todos los paises al mapa\n",
    "for index, row in df.iterrows():\n",
    "    if row['Área geográfica'] != 'Total':\n",
    "        country_code = row['Área geográfica']\n",
    "        if country_code in coordenadas:\n",
    "            lat, lon = coordenadas[country_code]\n",
    "            folium.CircleMarker(\n",
    "                location=[lat, lon],\n",
    "                radius=row['Visualizaciones'] / 750,  # es el mejor tamaño según he ido probando\n",
    "                color='#4869e3',\n",
    "                fill=True,\n",
    "                fill_color='#4869e3',\n",
    "                fill_opacity=0.6,\n",
    "                tooltip=row['Área geográfica'] + ': ' + str(row['Visualizaciones'])\n",
    "            ).add_to(m)\n",
    "\n",
    "# para que muestre el mapa, sin  necesidad de más\n",
    "m\n"
   ]
  },
  {
   "cell_type": "code",
   "execution_count": null,
   "metadata": {},
   "outputs": [],
   "source": [
    "#EDA 5\n",
    "import pandas as pd\n",
    "import plotly.graph_objects as go\n",
    "from plotly.subplots import make_subplots\n",
    "import plotly.offline\n",
    "\n",
    "datos = pd.read_csv('SirAlatriste Sistema operativo.csv')\n",
    "\n",
    "fig = make_subplots(specs=[[{}]])\n",
    "\n",
    "fig.add_trace(go.Scatter(x=datos['Sistema operativo'], y=datos['Visualizaciones'], mode='lines', name='Visualizaciones'))\n",
    "fig.add_trace(go.Scatter(x=datos['Sistema operativo'], y=datos['Tiempo de visualización (horas)'], mode='lines', name='Tiempo de visualización (horas)'))\n",
    "fig.add_trace(go.Scatter(x=datos['Sistema operativo'], y=datos['Duración media de las visualizaciones'], mode='lines', name='Duración media de las visualizaciones'))\n",
    "fig.add_trace(go.Scatter(x=datos['Sistema operativo'], y=datos['Porcentaje medio visto (%)'], mode='lines', name='Porcentaje medio visto por vídeo'))\n",
    "\n",
    "fig.update_layout(title='Sistemas operativos usados en SirAlatriste', xaxis_title='Sistema Operativo')\n",
    "\n",
    "fig.show()\n",
    "\n",
    "# plotly.offline.plot(fig, filename='grafico plotly.html')"
   ]
  },
  {
   "cell_type": "code",
   "execution_count": null,
   "metadata": {},
   "outputs": [],
   "source": [
    "#Análisis de la duración media de las visualizaciones. EDA 6.\n",
    "import seaborn as sns\n",
    "import pandas as pd\n",
    "import matplotlib.pyplot as plt\n",
    "\n",
    "datos = pd.read_csv('YouTube SirAlatriste datos.csv')\n",
    "\n",
    "# para ordenar los valores del eje x\n",
    "datos_sorted = datos.sort_values('Duración media de las visualizaciones')\n",
    "\n",
    "plt.figure(figsize=(10, 10))\n",
    "\n",
    "# histograma con Seaborn\n",
    "\n",
    "sns.histplot(data=datos_sorted, x='Duración media de las visualizaciones', binwidth=0.5, binrange=(0, 18), color='#4869e3')\n",
    "\n",
    "# para agregar un título al gráfico\n",
    "plt.title('Análisis de la duración media de las visualizaciones')\n",
    "\n",
    "media = datos['Duración media de las visualizaciones'].mean()\n",
    "mediana = datos['Duración media de las visualizaciones'].median()\n",
    "\n",
    "plt.axvline(media, color='red', linestyle='dashed', linewidth=2, label='Media')\n",
    "plt.axvline(mediana, color='#11CA38', linestyle='dashed', linewidth=2, label='Mediana')\n",
    "\n",
    "# agregar etiquetas a los ejes\n",
    "plt.xlabel('Duración media de las visualizaciones (en minutos)')\n",
    "plt.ylabel('Frecuencia')\n",
    "plt.xticks(rotation=0);\n",
    "plt.xlim(0, 17.5)\n",
    "plt.ylim(0, 62.5)\n",
    "plt.legend()\n",
    "\n",
    "plt.show()"
   ]
  },
  {
   "cell_type": "code",
   "execution_count": null,
   "metadata": {},
   "outputs": [],
   "source": [
    "#Análisis de la distribución de comentarios. EDA 7.\n",
    "import seaborn as sns\n",
    "import pandas as pd\n",
    "import matplotlib.pyplot as plt\n",
    "\n",
    "datos = pd.read_csv('YouTube SirAlatriste datos.csv')\n",
    "\n",
    "plt.figure(figsize=(16, 9))\n",
    "# para crear un gráfico de barras con Seaborn\n",
    "sns.countplot(data=datos, x='Comentarios', color='#4869e3', width=1)\n",
    "\n",
    "#para poner la media\n",
    "media_comentarios = datos['Comentarios'].mean()\n",
    "\n",
    "plt.axvline(media_comentarios, color='#11CA38', linestyle='--', linewidth=2)\n",
    "\n",
    "# para agregar un título al gráfico\n",
    "plt.title('Distribución de Comentarios')\n",
    "\n",
    "plt.xticks(rotation=0)\n",
    "plt.ylabel('Frecuencia del número de comentarios')\n",
    "plt.ylabel('Número de comentarios')\n",
    "plt.ylim(0,164)\n",
    "\n",
    "plt.show()"
   ]
  },
  {
   "cell_type": "code",
   "execution_count": null,
   "metadata": {},
   "outputs": [],
   "source": [
    "#NO ME CONVENCE... PARA ESO HAGO UN HEATMAP DE VARIAS COMO ESTAS QUE NO CONVENCEN Y AU.... \n",
    "# Análisis de la relación entre visualizaciones y tiempo de visualización. EDA 8\n",
    "import plotly.express as px\n",
    "import pandas as pd\n",
    "\n",
    "datos = pd.read_csv('YouTube SirAlatriste datos.csv')\n",
    "\n",
    "# para ordenar los valores de x en orden ascendente\n",
    "datos = datos.sort_values(by='Tiempo de visualización (horas)')\n",
    "\n",
    "# para crear un scatter plot con Plotly\n",
    "fig = px.scatter(datos, x='Tiempo de visualización (horas)', y='Visualizaciones')\n",
    "\n",
    "# para agregar títulos y etiquetas\n",
    "fig.update_layout(title='Relación entre Tiempo de visualización y Visualizaciones',\n",
    "                  xaxis_title='Tiempo de visualización (horas)',\n",
    "                  yaxis_title='Visualizaciones')\n",
    "\n",
    "# para mostrar el gráfico\n",
    "fig.show()"
   ]
  },
  {
   "cell_type": "code",
   "execution_count": null,
   "metadata": {},
   "outputs": [],
   "source": [
    "#una pie sencilla de cual es la edad aproximada de la audiencia. EDA 9\n",
    "import pandas as pd\n",
    "import matplotlib.pyplot as plt\n",
    "\n",
    "df = pd.read_csv('SirAlatriste edad espectador.csv')\n",
    "\n",
    "datos = df[['Edad del espectador', 'Visualizaciones (%)']]\n",
    "\n",
    "# se reemplaza 'Visualizaciones (%)' con el nombre de la columna que contiene los datos\n",
    "# luego reemplazo 'Nombres' con el nombre de la columna que contiene los nombres de los valores\n",
    "datos = df['Visualizaciones (%)']\n",
    "nombres = df['Edad del espectador']\n",
    "\n",
    "plt.pie(datos, labels=nombres)\n",
    "\n",
    "# se ha de crear el gráfico circular con los datos y los nombres con el argumento 'autopct' para mostrar los valores dentro de cada pieza de la tarta\n",
    "plt.pie(datos, labels=nombres, autopct='%1.1f%%')\n",
    "\n",
    "plt.show()"
   ]
  },
  {
   "cell_type": "code",
   "execution_count": null,
   "metadata": {},
   "outputs": [],
   "source": [
    "#EDA 10\n",
    "from wordcloud import WordCloud\n",
    "import matplotlib.pyplot as plt\n",
    "import pandas as pd\n",
    "\n",
    "datos = pd.read_csv('YouTube SirAlatriste datos.csv')\n",
    "\n",
    "# todos los títulos en un solo texto\n",
    "texto_titulos = ' '.join(datos['Título del vídeo'].tolist())\n",
    "\n",
    "# para crear la nube de palabras con WordCloud\n",
    "wordcloud = WordCloud(width=1800, height=300, background_color='white').generate(texto_titulos)\n",
    "\n",
    "# Para mostrar la nube de palabras con Matplotlib\n",
    "plt.figure(figsize=(40, 8))\n",
    "plt.imshow(wordcloud, interpolation='bilinear')\n",
    "plt.axis('off')\n",
    "plt.show()"
   ]
  },
  {
   "cell_type": "code",
   "execution_count": null,
   "metadata": {},
   "outputs": [],
   "source": [
    "# Gráfico de barras para comparar las visualizaciones de mis videos. EDA 11\n",
    "\n",
    "import seaborn as sns\n",
    "import pandas as pd\n",
    "import matplotlib.pyplot as plt\n",
    "\n",
    "df = pd.read_csv('YouTube SirAlatriste datos.csv')\n",
    "\n",
    "# media de 'Visualizaciones' ??\n",
    "# mean_views = df['Visualizaciones'].mean()\n",
    "\n",
    "#reducir el titulo\n",
    "df['Título del vídeo'] = df['Título del vídeo'].apply(lambda x: x[:14])\n",
    "\n",
    "# barras con Seaborn\n",
    "plt.figure(figsize=(10, 10))\n",
    "sns.barplot(x='Título del vídeo', y='Visualizaciones', data=df.head(50), color='#4869e3', width=1.3);\n",
    "plt.xticks(rotation=300);\n",
    "plt.yticks(range(0, 49000, 4000));\n",
    "# plt.axhline(mean_views, color='red', linestyle='--', linewidth=2); #para representar la media pero no mola"
   ]
  },
  {
   "cell_type": "code",
   "execution_count": null,
   "metadata": {},
   "outputs": [],
   "source": [
    "#heatmap de todas las variables de los datos de los videos. EDA 12\n",
    "import pandas as pd\n",
    "import seaborn as sns\n",
    "import matplotlib.pyplot as plt\n",
    "\n",
    "df = pd.read_csv('YouTube SirAlatriste datos.csv')\n",
    "\n",
    "# matriz de correlación\n",
    "corr = df.corr()\n",
    "\n",
    "plt.figure(figsize=(10, 7))\n",
    "sns.heatmap(corr, annot=True, cmap='Blues');\n",
    "plt.show()"
   ]
  },
  {
   "cell_type": "code",
   "execution_count": null,
   "metadata": {},
   "outputs": [],
   "source": [
    "#EDA 13. #origen de las suscripciones del canal. como hay pocos datos he preferido ponerlos aqui directamente como he hecho otras veces\n",
    "import pandas as pd\n",
    "import matplotlib.pyplot as plt\n",
    "\n",
    "# prefiero crear el DataFrame con los datos\n",
    "data = {'Origen de las suscripciones': ['Página de visualización de YouTube', 'Tu canal de YouTube', 'Otros', 'Búsqueda de YouTube', 'Feed de Shorts', 'Funciones interactivas', 'Otro canal de YouTube', 'fuente externa', 'Página de inicio de YouTube', 'Feed Suscripciones', 'Cuentas cerradas', 'Lista de suscripciones a canales'],\n",
    "        'Suscriptores': [627, 313, 212, 51, 35, 9, 9, 1, -8, -17, -33, -63],\n",
    "        'Suscriptores ganados': [707, 527, 579, 51, 36, 9, 10, 2, 0, 0, 6, 4],\n",
    "        'Suscriptores perdidos': [80, 214, 367, 0, 1, 0, 1, 1, 8, 17, 39, 67]}\n",
    "df = pd.DataFrame(data)\n",
    "\n",
    "# el gráfico de columnas apiladas\n",
    "df.plot(x='Origen de las suscripciones', y=['Suscriptores ganados', 'Suscriptores perdidos'], kind='bar', stacked=True, color=['#4869e3', '#Ff0000'])\n",
    "\n",
    "# etiquetas a los ejes\n",
    "plt.xlabel('Origen de las suscripciones')\n",
    "plt.ylabel('Número de suscriptores')\n",
    "\n",
    "plt.show()"
   ]
  },
  {
   "cell_type": "code",
   "execution_count": null,
   "metadata": {},
   "outputs": [],
   "source": [
    "#EDA 14. Días gloriosos del canal en función de 5 variables\n",
    "import pandas as pd\n",
    "import plotly.graph_objects as go\n",
    "from plotly.subplots import make_subplots\n",
    "import plotly.offline\n",
    "\n",
    "datos = pd.read_csv('SirAlatriste Días gloriosos.csv', nrows=400)\n",
    "\n",
    "fig = make_subplots(specs=[[{}]])\n",
    "\n",
    "fig.add_trace(go.Scatter(x=datos['Fecha'], y=datos['Comentarios añadidos'], mode='markers', name='Comentarios añadidos'))\n",
    "fig.add_trace(go.Scatter(x=datos['Fecha'], y=datos['Suscriptores'], mode='markers', name='Suscriptores'))\n",
    "fig.add_trace(go.Scatter(x=datos['Fecha'], y=datos['Visualizaciones'], mode='markers', name='Visualizaciones'))\n",
    "fig.add_trace(go.Scatter(x=datos['Fecha'], y=datos['Tiempo de visualización (horas)'], mode='markers', name='Tiempo de visualización (horas)'))\n",
    "fig.add_trace(go.Scatter(x=datos['Fecha'], y=datos['Duración media de las visualizaciones'], mode='markers', name='Duración media de las visualizaciones (min)'))\n",
    "\n",
    "fig.update_layout(title='Días gloriosos en SirAlatriste', xaxis_title='Fechas')\n",
    "\n",
    "fig.show()\n",
    "\n",
    "# plotly.offline.plot(fig, filename='grafico 2 plotly.html')"
   ]
  },
  {
   "cell_type": "code",
   "execution_count": 12,
   "metadata": {},
   "outputs": [
    {
     "data": {
      "application/vnd.plotly.v1+json": {
       "config": {
        "plotlyServerURL": "https://plot.ly"
       },
       "data": [
        {
         "labels": [
          "LoL Shorts SirAlatriste",
          "Streams SirAlatriste",
          "Campaña Ironman Castilla y España",
          "OTG Official Team Gainz Five",
          "Otros juegos",
          "Formula 1 - Grandes Premios",
          "Star Wars Battlefront I",
          "Highlights SirAlatriste",
          "MONTAGES SIRALATRISTE",
          "Montaje legacy",
          "¿Hasta donde llegarías por Roma? - Rome 2: Total War",
          "Empire Total War Darthmod España",
          "Esparta",
          "Odisea en Ámerica - Cooperativa",
          "Campaña de las Cruzadas - Principado de Jerusalén",
          "League of Legends SirAlatriste",
          "Imperivm RTC - HD Edition Steam",
          "Napoleón Total War con España",
          "Gran España - Europa Universalis IV",
          "Naval Action - Facción española",
          "Ark Survival Evolved - Final Destroyer's legacy on Official Server",
          "Europa Universalis 4 - Cooperativo (Aragón)"
         ],
         "marker": {
          "colors": [
           0.0025,
           0.0075,
           0.0198,
           0.1448,
           0.2413,
           0.361,
           1.3036,
           1.3211,
           1.5628,
           1.7275,
           2.2601,
           2.3104,
           5.7168,
           7.3479,
           9.4728,
           9.6547,
           28.2858,
           51.6925,
           58.9797,
           75.8269,
           77.9201,
           151.8807
          ],
          "colorscale": [
           [
            0,
            "rgb(247,251,255)"
           ],
           [
            0.125,
            "rgb(222,235,247)"
           ],
           [
            0.25,
            "rgb(198,219,239)"
           ],
           [
            0.375,
            "rgb(158,202,225)"
           ],
           [
            0.5,
            "rgb(107,174,214)"
           ],
           [
            0.625,
            "rgb(66,146,198)"
           ],
           [
            0.75,
            "rgb(33,113,181)"
           ],
           [
            0.875,
            "rgb(8,81,156)"
           ],
           [
            1,
            "rgb(8,48,107)"
           ]
          ]
         },
         "name": "Tiempo de visualización de la lista de reproducción (horas)",
         "parents": [
          "",
          "",
          "",
          "",
          "",
          "",
          "",
          "",
          "",
          "",
          "",
          "",
          "",
          "",
          "",
          "",
          "",
          "",
          "",
          "",
          "",
          ""
         ],
         "textinfo": "label+value",
         "textposition": "middle center",
         "type": "treemap",
         "values": [
          0.0025,
          0.0075,
          0.0198,
          0.1448,
          0.2413,
          0.361,
          1.3036,
          1.3211,
          1.5628,
          1.7275,
          2.2601,
          2.3104,
          5.7168,
          7.3479,
          9.4728,
          9.6547,
          28.2858,
          51.6925,
          58.9797,
          75.8269,
          77.9201,
          151.8807
         ]
        },
        {
         "labels": [
          "Campaña Ironman Castilla y España",
          "Streams SirAlatriste",
          "LoL Shorts SirAlatriste",
          "OTG Official Team Gainz Five",
          "Formula 1 - Grandes Premios",
          "Highlights SirAlatriste",
          "League of Legends SirAlatriste",
          "MONTAGES SIRALATRISTE",
          "¿Hasta donde llegarías por Roma? - Rome 2: Total War",
          "Montaje legacy",
          "Otros juegos",
          "Empire Total War Darthmod España",
          "Esparta",
          "Odisea en Ámerica - Cooperativa",
          "Imperivm RTC - HD Edition Steam",
          "Gran España - Europa Universalis IV",
          "Campaña de las Cruzadas - Principado de Jerusalén",
          "Ark Survival Evolved - Final Destroyer's legacy on Official Server",
          "Napoleón Total War con España",
          "Naval Action - Facción española",
          "Europa Universalis 4 - Cooperativo (Aragón)",
          "Star Wars Battlefront I"
         ],
         "marker": {
          "colors": [
           0.03333333333,
           0.05,
           0.1333333333,
           0.8666666667,
           0.9,
           1.1,
           1.333333333,
           1.416666667,
           1.55,
           1.683333333,
           2.4,
           2.6,
           3.116666667,
           3.483333333,
           3.683333333,
           3.816666667,
           3.85,
           3.85,
           3.883333333,
           7.45,
           8.633333333,
           8.683333333
          ],
          "colorscale": [
           [
            0,
            "rgb(247,251,255)"
           ],
           [
            0.125,
            "rgb(222,235,247)"
           ],
           [
            0.25,
            "rgb(198,219,239)"
           ],
           [
            0.375,
            "rgb(158,202,225)"
           ],
           [
            0.5,
            "rgb(107,174,214)"
           ],
           [
            0.625,
            "rgb(66,146,198)"
           ],
           [
            0.75,
            "rgb(33,113,181)"
           ],
           [
            0.875,
            "rgb(8,81,156)"
           ],
           [
            1,
            "rgb(8,48,107)"
           ]
          ]
         },
         "name": "Duración media de las visualizaciones de la lista de reproducción",
         "parents": [
          "",
          "",
          "",
          "",
          "",
          "",
          "",
          "",
          "",
          "",
          "",
          "",
          "",
          "",
          "",
          "",
          "",
          "",
          "",
          "",
          "",
          ""
         ],
         "textinfo": "label+value",
         "textposition": "middle center",
         "type": "treemap",
         "values": [
          0.03333333333,
          0.05,
          0.1333333333,
          0.8666666667,
          0.9,
          1.1,
          1.333333333,
          1.416666667,
          1.55,
          1.683333333,
          2.4,
          2.6,
          3.116666667,
          3.483333333,
          3.683333333,
          3.816666667,
          3.85,
          3.85,
          3.883333333,
          7.45,
          8.633333333,
          8.683333333
         ]
        },
        {
         "labels": [
          "LoL Shorts SirAlatriste",
          "Otros juegos",
          "Streams SirAlatriste",
          "Star Wars Battlefront I",
          "OTG Official Team Gainz Five",
          "Formula 1 - Grandes Premios",
          "Campaña Ironman Castilla y España",
          "Empire Total War Darthmod España",
          "Montaje legacy",
          "MONTAGES SIRALATRISTE",
          "Highlights SirAlatriste",
          "¿Hasta donde llegarías por Roma? - Rome 2: Total War",
          "Esparta",
          "Odisea en Ámerica - Cooperativa",
          "Campaña de las Cruzadas - Principado de Jerusalén",
          "League of Legends SirAlatriste",
          "Imperivm RTC - HD Edition Steam",
          "Naval Action - Facción española",
          "Napoleón Total War con España",
          "Gran España - Europa Universalis IV",
          "Europa Universalis 4 - Cooperativo (Aragón)",
          "Ark Survival Evolved - Final Destroyer's legacy on Official Server"
         ],
         "marker": {
          "colors": [
           1,
           6,
           7,
           9,
           10,
           24,
           25,
           53,
           61,
           66,
           71,
           87,
           110,
           126,
           147,
           434,
           459,
           610,
           798,
           925,
           1055,
           1213
          ],
          "colorscale": [
           [
            0,
            "rgb(247,251,255)"
           ],
           [
            0.125,
            "rgb(222,235,247)"
           ],
           [
            0.25,
            "rgb(198,219,239)"
           ],
           [
            0.375,
            "rgb(158,202,225)"
           ],
           [
            0.5,
            "rgb(107,174,214)"
           ],
           [
            0.625,
            "rgb(66,146,198)"
           ],
           [
            0.75,
            "rgb(33,113,181)"
           ],
           [
            0.875,
            "rgb(8,81,156)"
           ],
           [
            1,
            "rgb(8,48,107)"
           ]
          ]
         },
         "name": "Visualizaciones de la lista de reproducción",
         "parents": [
          "",
          "",
          "",
          "",
          "",
          "",
          "",
          "",
          "",
          "",
          "",
          "",
          "",
          "",
          "",
          "",
          "",
          "",
          "",
          "",
          "",
          ""
         ],
         "textinfo": "label+value",
         "textposition": "middle center",
         "type": "treemap",
         "values": [
          1,
          6,
          7,
          9,
          10,
          24,
          25,
          53,
          61,
          66,
          71,
          87,
          110,
          126,
          147,
          434,
          459,
          610,
          798,
          925,
          1055,
          1213
         ]
        }
       ],
       "layout": {
        "template": {
         "data": {
          "bar": [
           {
            "error_x": {
             "color": "#2a3f5f"
            },
            "error_y": {
             "color": "#2a3f5f"
            },
            "marker": {
             "line": {
              "color": "#E5ECF6",
              "width": 0.5
             },
             "pattern": {
              "fillmode": "overlay",
              "size": 10,
              "solidity": 0.2
             }
            },
            "type": "bar"
           }
          ],
          "barpolar": [
           {
            "marker": {
             "line": {
              "color": "#E5ECF6",
              "width": 0.5
             },
             "pattern": {
              "fillmode": "overlay",
              "size": 10,
              "solidity": 0.2
             }
            },
            "type": "barpolar"
           }
          ],
          "carpet": [
           {
            "aaxis": {
             "endlinecolor": "#2a3f5f",
             "gridcolor": "white",
             "linecolor": "white",
             "minorgridcolor": "white",
             "startlinecolor": "#2a3f5f"
            },
            "baxis": {
             "endlinecolor": "#2a3f5f",
             "gridcolor": "white",
             "linecolor": "white",
             "minorgridcolor": "white",
             "startlinecolor": "#2a3f5f"
            },
            "type": "carpet"
           }
          ],
          "choropleth": [
           {
            "colorbar": {
             "outlinewidth": 0,
             "ticks": ""
            },
            "type": "choropleth"
           }
          ],
          "contour": [
           {
            "colorbar": {
             "outlinewidth": 0,
             "ticks": ""
            },
            "colorscale": [
             [
              0,
              "#0d0887"
             ],
             [
              0.1111111111111111,
              "#46039f"
             ],
             [
              0.2222222222222222,
              "#7201a8"
             ],
             [
              0.3333333333333333,
              "#9c179e"
             ],
             [
              0.4444444444444444,
              "#bd3786"
             ],
             [
              0.5555555555555556,
              "#d8576b"
             ],
             [
              0.6666666666666666,
              "#ed7953"
             ],
             [
              0.7777777777777778,
              "#fb9f3a"
             ],
             [
              0.8888888888888888,
              "#fdca26"
             ],
             [
              1,
              "#f0f921"
             ]
            ],
            "type": "contour"
           }
          ],
          "contourcarpet": [
           {
            "colorbar": {
             "outlinewidth": 0,
             "ticks": ""
            },
            "type": "contourcarpet"
           }
          ],
          "heatmap": [
           {
            "colorbar": {
             "outlinewidth": 0,
             "ticks": ""
            },
            "colorscale": [
             [
              0,
              "#0d0887"
             ],
             [
              0.1111111111111111,
              "#46039f"
             ],
             [
              0.2222222222222222,
              "#7201a8"
             ],
             [
              0.3333333333333333,
              "#9c179e"
             ],
             [
              0.4444444444444444,
              "#bd3786"
             ],
             [
              0.5555555555555556,
              "#d8576b"
             ],
             [
              0.6666666666666666,
              "#ed7953"
             ],
             [
              0.7777777777777778,
              "#fb9f3a"
             ],
             [
              0.8888888888888888,
              "#fdca26"
             ],
             [
              1,
              "#f0f921"
             ]
            ],
            "type": "heatmap"
           }
          ],
          "heatmapgl": [
           {
            "colorbar": {
             "outlinewidth": 0,
             "ticks": ""
            },
            "colorscale": [
             [
              0,
              "#0d0887"
             ],
             [
              0.1111111111111111,
              "#46039f"
             ],
             [
              0.2222222222222222,
              "#7201a8"
             ],
             [
              0.3333333333333333,
              "#9c179e"
             ],
             [
              0.4444444444444444,
              "#bd3786"
             ],
             [
              0.5555555555555556,
              "#d8576b"
             ],
             [
              0.6666666666666666,
              "#ed7953"
             ],
             [
              0.7777777777777778,
              "#fb9f3a"
             ],
             [
              0.8888888888888888,
              "#fdca26"
             ],
             [
              1,
              "#f0f921"
             ]
            ],
            "type": "heatmapgl"
           }
          ],
          "histogram": [
           {
            "marker": {
             "pattern": {
              "fillmode": "overlay",
              "size": 10,
              "solidity": 0.2
             }
            },
            "type": "histogram"
           }
          ],
          "histogram2d": [
           {
            "colorbar": {
             "outlinewidth": 0,
             "ticks": ""
            },
            "colorscale": [
             [
              0,
              "#0d0887"
             ],
             [
              0.1111111111111111,
              "#46039f"
             ],
             [
              0.2222222222222222,
              "#7201a8"
             ],
             [
              0.3333333333333333,
              "#9c179e"
             ],
             [
              0.4444444444444444,
              "#bd3786"
             ],
             [
              0.5555555555555556,
              "#d8576b"
             ],
             [
              0.6666666666666666,
              "#ed7953"
             ],
             [
              0.7777777777777778,
              "#fb9f3a"
             ],
             [
              0.8888888888888888,
              "#fdca26"
             ],
             [
              1,
              "#f0f921"
             ]
            ],
            "type": "histogram2d"
           }
          ],
          "histogram2dcontour": [
           {
            "colorbar": {
             "outlinewidth": 0,
             "ticks": ""
            },
            "colorscale": [
             [
              0,
              "#0d0887"
             ],
             [
              0.1111111111111111,
              "#46039f"
             ],
             [
              0.2222222222222222,
              "#7201a8"
             ],
             [
              0.3333333333333333,
              "#9c179e"
             ],
             [
              0.4444444444444444,
              "#bd3786"
             ],
             [
              0.5555555555555556,
              "#d8576b"
             ],
             [
              0.6666666666666666,
              "#ed7953"
             ],
             [
              0.7777777777777778,
              "#fb9f3a"
             ],
             [
              0.8888888888888888,
              "#fdca26"
             ],
             [
              1,
              "#f0f921"
             ]
            ],
            "type": "histogram2dcontour"
           }
          ],
          "mesh3d": [
           {
            "colorbar": {
             "outlinewidth": 0,
             "ticks": ""
            },
            "type": "mesh3d"
           }
          ],
          "parcoords": [
           {
            "line": {
             "colorbar": {
              "outlinewidth": 0,
              "ticks": ""
             }
            },
            "type": "parcoords"
           }
          ],
          "pie": [
           {
            "automargin": true,
            "type": "pie"
           }
          ],
          "scatter": [
           {
            "fillpattern": {
             "fillmode": "overlay",
             "size": 10,
             "solidity": 0.2
            },
            "type": "scatter"
           }
          ],
          "scatter3d": [
           {
            "line": {
             "colorbar": {
              "outlinewidth": 0,
              "ticks": ""
             }
            },
            "marker": {
             "colorbar": {
              "outlinewidth": 0,
              "ticks": ""
             }
            },
            "type": "scatter3d"
           }
          ],
          "scattercarpet": [
           {
            "marker": {
             "colorbar": {
              "outlinewidth": 0,
              "ticks": ""
             }
            },
            "type": "scattercarpet"
           }
          ],
          "scattergeo": [
           {
            "marker": {
             "colorbar": {
              "outlinewidth": 0,
              "ticks": ""
             }
            },
            "type": "scattergeo"
           }
          ],
          "scattergl": [
           {
            "marker": {
             "colorbar": {
              "outlinewidth": 0,
              "ticks": ""
             }
            },
            "type": "scattergl"
           }
          ],
          "scattermapbox": [
           {
            "marker": {
             "colorbar": {
              "outlinewidth": 0,
              "ticks": ""
             }
            },
            "type": "scattermapbox"
           }
          ],
          "scatterpolar": [
           {
            "marker": {
             "colorbar": {
              "outlinewidth": 0,
              "ticks": ""
             }
            },
            "type": "scatterpolar"
           }
          ],
          "scatterpolargl": [
           {
            "marker": {
             "colorbar": {
              "outlinewidth": 0,
              "ticks": ""
             }
            },
            "type": "scatterpolargl"
           }
          ],
          "scatterternary": [
           {
            "marker": {
             "colorbar": {
              "outlinewidth": 0,
              "ticks": ""
             }
            },
            "type": "scatterternary"
           }
          ],
          "surface": [
           {
            "colorbar": {
             "outlinewidth": 0,
             "ticks": ""
            },
            "colorscale": [
             [
              0,
              "#0d0887"
             ],
             [
              0.1111111111111111,
              "#46039f"
             ],
             [
              0.2222222222222222,
              "#7201a8"
             ],
             [
              0.3333333333333333,
              "#9c179e"
             ],
             [
              0.4444444444444444,
              "#bd3786"
             ],
             [
              0.5555555555555556,
              "#d8576b"
             ],
             [
              0.6666666666666666,
              "#ed7953"
             ],
             [
              0.7777777777777778,
              "#fb9f3a"
             ],
             [
              0.8888888888888888,
              "#fdca26"
             ],
             [
              1,
              "#f0f921"
             ]
            ],
            "type": "surface"
           }
          ],
          "table": [
           {
            "cells": {
             "fill": {
              "color": "#EBF0F8"
             },
             "line": {
              "color": "white"
             }
            },
            "header": {
             "fill": {
              "color": "#C8D4E3"
             },
             "line": {
              "color": "white"
             }
            },
            "type": "table"
           }
          ]
         },
         "layout": {
          "annotationdefaults": {
           "arrowcolor": "#2a3f5f",
           "arrowhead": 0,
           "arrowwidth": 1
          },
          "autotypenumbers": "strict",
          "coloraxis": {
           "colorbar": {
            "outlinewidth": 0,
            "ticks": ""
           }
          },
          "colorscale": {
           "diverging": [
            [
             0,
             "#8e0152"
            ],
            [
             0.1,
             "#c51b7d"
            ],
            [
             0.2,
             "#de77ae"
            ],
            [
             0.3,
             "#f1b6da"
            ],
            [
             0.4,
             "#fde0ef"
            ],
            [
             0.5,
             "#f7f7f7"
            ],
            [
             0.6,
             "#e6f5d0"
            ],
            [
             0.7,
             "#b8e186"
            ],
            [
             0.8,
             "#7fbc41"
            ],
            [
             0.9,
             "#4d9221"
            ],
            [
             1,
             "#276419"
            ]
           ],
           "sequential": [
            [
             0,
             "#0d0887"
            ],
            [
             0.1111111111111111,
             "#46039f"
            ],
            [
             0.2222222222222222,
             "#7201a8"
            ],
            [
             0.3333333333333333,
             "#9c179e"
            ],
            [
             0.4444444444444444,
             "#bd3786"
            ],
            [
             0.5555555555555556,
             "#d8576b"
            ],
            [
             0.6666666666666666,
             "#ed7953"
            ],
            [
             0.7777777777777778,
             "#fb9f3a"
            ],
            [
             0.8888888888888888,
             "#fdca26"
            ],
            [
             1,
             "#f0f921"
            ]
           ],
           "sequentialminus": [
            [
             0,
             "#0d0887"
            ],
            [
             0.1111111111111111,
             "#46039f"
            ],
            [
             0.2222222222222222,
             "#7201a8"
            ],
            [
             0.3333333333333333,
             "#9c179e"
            ],
            [
             0.4444444444444444,
             "#bd3786"
            ],
            [
             0.5555555555555556,
             "#d8576b"
            ],
            [
             0.6666666666666666,
             "#ed7953"
            ],
            [
             0.7777777777777778,
             "#fb9f3a"
            ],
            [
             0.8888888888888888,
             "#fdca26"
            ],
            [
             1,
             "#f0f921"
            ]
           ]
          },
          "colorway": [
           "#636efa",
           "#EF553B",
           "#00cc96",
           "#ab63fa",
           "#FFA15A",
           "#19d3f3",
           "#FF6692",
           "#B6E880",
           "#FF97FF",
           "#FECB52"
          ],
          "font": {
           "color": "#2a3f5f"
          },
          "geo": {
           "bgcolor": "white",
           "lakecolor": "white",
           "landcolor": "#E5ECF6",
           "showlakes": true,
           "showland": true,
           "subunitcolor": "white"
          },
          "hoverlabel": {
           "align": "left"
          },
          "hovermode": "closest",
          "mapbox": {
           "style": "light"
          },
          "paper_bgcolor": "white",
          "plot_bgcolor": "#E5ECF6",
          "polar": {
           "angularaxis": {
            "gridcolor": "white",
            "linecolor": "white",
            "ticks": ""
           },
           "bgcolor": "#E5ECF6",
           "radialaxis": {
            "gridcolor": "white",
            "linecolor": "white",
            "ticks": ""
           }
          },
          "scene": {
           "xaxis": {
            "backgroundcolor": "#E5ECF6",
            "gridcolor": "white",
            "gridwidth": 2,
            "linecolor": "white",
            "showbackground": true,
            "ticks": "",
            "zerolinecolor": "white"
           },
           "yaxis": {
            "backgroundcolor": "#E5ECF6",
            "gridcolor": "white",
            "gridwidth": 2,
            "linecolor": "white",
            "showbackground": true,
            "ticks": "",
            "zerolinecolor": "white"
           },
           "zaxis": {
            "backgroundcolor": "#E5ECF6",
            "gridcolor": "white",
            "gridwidth": 2,
            "linecolor": "white",
            "showbackground": true,
            "ticks": "",
            "zerolinecolor": "white"
           }
          },
          "shapedefaults": {
           "line": {
            "color": "#2a3f5f"
           }
          },
          "ternary": {
           "aaxis": {
            "gridcolor": "white",
            "linecolor": "white",
            "ticks": ""
           },
           "baxis": {
            "gridcolor": "white",
            "linecolor": "white",
            "ticks": ""
           },
           "bgcolor": "#E5ECF6",
           "caxis": {
            "gridcolor": "white",
            "linecolor": "white",
            "ticks": ""
           }
          },
          "title": {
           "x": 0.05
          },
          "xaxis": {
           "automargin": true,
           "gridcolor": "white",
           "linecolor": "white",
           "ticks": "",
           "title": {
            "standoff": 15
           },
           "zerolinecolor": "white",
           "zerolinewidth": 2
          },
          "yaxis": {
           "automargin": true,
           "gridcolor": "white",
           "linecolor": "white",
           "ticks": "",
           "title": {
            "standoff": 15
           },
           "zerolinecolor": "white",
           "zerolinewidth": 2
          }
         }
        },
        "updatemenus": [
         {
          "buttons": [
           {
            "args": [
             {
              "visible": [
               true,
               false,
               false
              ]
             },
             {
              "data": [
               {
                "labels": [
                 "LoL Shorts SirAlatriste",
                 "Streams SirAlatriste",
                 "Campaña Ironman Castilla y España",
                 "OTG Official Team Gainz Five",
                 "Otros juegos",
                 "Formula 1 - Grandes Premios",
                 "Star Wars Battlefront I",
                 "Highlights SirAlatriste",
                 "MONTAGES SIRALATRISTE",
                 "Montaje legacy",
                 "¿Hasta donde llegarías por Roma? - Rome 2: Total War",
                 "Empire Total War Darthmod España",
                 "Esparta",
                 "Odisea en Ámerica - Cooperativa",
                 "Campaña de las Cruzadas - Principado de Jerusalén",
                 "League of Legends SirAlatriste",
                 "Imperivm RTC - HD Edition Steam",
                 "Napoleón Total War con España",
                 "Gran España - Europa Universalis IV",
                 "Naval Action - Facción española",
                 "Ark Survival Evolved - Final Destroyer's legacy on Official Server",
                 "Europa Universalis 4 - Cooperativo (Aragón)"
                ],
                "marker": {
                 "colors": [
                  0.0025,
                  0.0075,
                  0.0198,
                  0.1448,
                  0.2413,
                  0.361,
                  1.3036,
                  1.3211,
                  1.5628,
                  1.7275,
                  2.2601,
                  2.3104,
                  5.7168,
                  7.3479,
                  9.4728,
                  9.6547,
                  28.2858,
                  51.6925,
                  58.9797,
                  75.8269,
                  77.9201,
                  151.8807
                 ],
                 "colorscale": [
                  [
                   0,
                   "rgb(247,251,255)"
                  ],
                  [
                   0.125,
                   "rgb(222,235,247)"
                  ],
                  [
                   0.25,
                   "rgb(198,219,239)"
                  ],
                  [
                   0.375,
                   "rgb(158,202,225)"
                  ],
                  [
                   0.5,
                   "rgb(107,174,214)"
                  ],
                  [
                   0.625,
                   "rgb(66,146,198)"
                  ],
                  [
                   0.75,
                   "rgb(33,113,181)"
                  ],
                  [
                   0.875,
                   "rgb(8,81,156)"
                  ],
                  [
                   1,
                   "rgb(8,48,107)"
                  ]
                 ]
                },
                "name": "Tiempo de visualización de la lista de reproducción (horas)",
                "parents": [
                 "",
                 "",
                 "",
                 "",
                 "",
                 "",
                 "",
                 "",
                 "",
                 "",
                 "",
                 "",
                 "",
                 "",
                 "",
                 "",
                 "",
                 "",
                 "",
                 "",
                 "",
                 ""
                ],
                "textinfo": "label+value",
                "textposition": "middle center",
                "type": "treemap",
                "values": [
                 0.0025,
                 0.0075,
                 0.0198,
                 0.1448,
                 0.2413,
                 0.361,
                 1.3036,
                 1.3211,
                 1.5628,
                 1.7275,
                 2.2601,
                 2.3104,
                 5.7168,
                 7.3479,
                 9.4728,
                 9.6547,
                 28.2858,
                 51.6925,
                 58.9797,
                 75.8269,
                 77.9201,
                 151.8807
                ]
               }
              ]
             }
            ],
            "label": "Tiempo de visualización de la lista de reproducción (horas)",
            "method": "update"
           },
           {
            "args": [
             {
              "visible": [
               false,
               true,
               false
              ]
             },
             {
              "data": [
               {
                "labels": [
                 "Campaña Ironman Castilla y España",
                 "Streams SirAlatriste",
                 "LoL Shorts SirAlatriste",
                 "OTG Official Team Gainz Five",
                 "Formula 1 - Grandes Premios",
                 "Highlights SirAlatriste",
                 "League of Legends SirAlatriste",
                 "MONTAGES SIRALATRISTE",
                 "¿Hasta donde llegarías por Roma? - Rome 2: Total War",
                 "Montaje legacy",
                 "Otros juegos",
                 "Empire Total War Darthmod España",
                 "Esparta",
                 "Odisea en Ámerica - Cooperativa",
                 "Imperivm RTC - HD Edition Steam",
                 "Gran España - Europa Universalis IV",
                 "Campaña de las Cruzadas - Principado de Jerusalén",
                 "Ark Survival Evolved - Final Destroyer's legacy on Official Server",
                 "Napoleón Total War con España",
                 "Naval Action - Facción española",
                 "Europa Universalis 4 - Cooperativo (Aragón)",
                 "Star Wars Battlefront I"
                ],
                "marker": {
                 "colors": [
                  0.03333333333,
                  0.05,
                  0.1333333333,
                  0.8666666667,
                  0.9,
                  1.1,
                  1.333333333,
                  1.416666667,
                  1.55,
                  1.683333333,
                  2.4,
                  2.6,
                  3.116666667,
                  3.483333333,
                  3.683333333,
                  3.816666667,
                  3.85,
                  3.85,
                  3.883333333,
                  7.45,
                  8.633333333,
                  8.683333333
                 ],
                 "colorscale": [
                  [
                   0,
                   "rgb(247,251,255)"
                  ],
                  [
                   0.125,
                   "rgb(222,235,247)"
                  ],
                  [
                   0.25,
                   "rgb(198,219,239)"
                  ],
                  [
                   0.375,
                   "rgb(158,202,225)"
                  ],
                  [
                   0.5,
                   "rgb(107,174,214)"
                  ],
                  [
                   0.625,
                   "rgb(66,146,198)"
                  ],
                  [
                   0.75,
                   "rgb(33,113,181)"
                  ],
                  [
                   0.875,
                   "rgb(8,81,156)"
                  ],
                  [
                   1,
                   "rgb(8,48,107)"
                  ]
                 ]
                },
                "name": "Duración media de las visualizaciones de la lista de reproducción",
                "parents": [
                 "",
                 "",
                 "",
                 "",
                 "",
                 "",
                 "",
                 "",
                 "",
                 "",
                 "",
                 "",
                 "",
                 "",
                 "",
                 "",
                 "",
                 "",
                 "",
                 "",
                 "",
                 ""
                ],
                "textinfo": "label+value",
                "textposition": "middle center",
                "type": "treemap",
                "values": [
                 0.03333333333,
                 0.05,
                 0.1333333333,
                 0.8666666667,
                 0.9,
                 1.1,
                 1.333333333,
                 1.416666667,
                 1.55,
                 1.683333333,
                 2.4,
                 2.6,
                 3.116666667,
                 3.483333333,
                 3.683333333,
                 3.816666667,
                 3.85,
                 3.85,
                 3.883333333,
                 7.45,
                 8.633333333,
                 8.683333333
                ]
               }
              ]
             }
            ],
            "label": "Duración media de las visualizaciones de la lista de reproducción",
            "method": "update"
           },
           {
            "args": [
             {
              "visible": [
               false,
               false,
               true
              ]
             },
             {
              "data": [
               {
                "labels": [
                 "LoL Shorts SirAlatriste",
                 "Otros juegos",
                 "Streams SirAlatriste",
                 "Star Wars Battlefront I",
                 "OTG Official Team Gainz Five",
                 "Formula 1 - Grandes Premios",
                 "Campaña Ironman Castilla y España",
                 "Empire Total War Darthmod España",
                 "Montaje legacy",
                 "MONTAGES SIRALATRISTE",
                 "Highlights SirAlatriste",
                 "¿Hasta donde llegarías por Roma? - Rome 2: Total War",
                 "Esparta",
                 "Odisea en Ámerica - Cooperativa",
                 "Campaña de las Cruzadas - Principado de Jerusalén",
                 "League of Legends SirAlatriste",
                 "Imperivm RTC - HD Edition Steam",
                 "Naval Action - Facción española",
                 "Napoleón Total War con España",
                 "Gran España - Europa Universalis IV",
                 "Europa Universalis 4 - Cooperativo (Aragón)",
                 "Ark Survival Evolved - Final Destroyer's legacy on Official Server"
                ],
                "marker": {
                 "colors": [
                  1,
                  6,
                  7,
                  9,
                  10,
                  24,
                  25,
                  53,
                  61,
                  66,
                  71,
                  87,
                  110,
                  126,
                  147,
                  434,
                  459,
                  610,
                  798,
                  925,
                  1055,
                  1213
                 ],
                 "colorscale": [
                  [
                   0,
                   "rgb(247,251,255)"
                  ],
                  [
                   0.125,
                   "rgb(222,235,247)"
                  ],
                  [
                   0.25,
                   "rgb(198,219,239)"
                  ],
                  [
                   0.375,
                   "rgb(158,202,225)"
                  ],
                  [
                   0.5,
                   "rgb(107,174,214)"
                  ],
                  [
                   0.625,
                   "rgb(66,146,198)"
                  ],
                  [
                   0.75,
                   "rgb(33,113,181)"
                  ],
                  [
                   0.875,
                   "rgb(8,81,156)"
                  ],
                  [
                   1,
                   "rgb(8,48,107)"
                  ]
                 ]
                },
                "name": "Visualizaciones de la lista de reproducción",
                "parents": [
                 "",
                 "",
                 "",
                 "",
                 "",
                 "",
                 "",
                 "",
                 "",
                 "",
                 "",
                 "",
                 "",
                 "",
                 "",
                 "",
                 "",
                 "",
                 "",
                 "",
                 "",
                 ""
                ],
                "textinfo": "label+value",
                "textposition": "middle center",
                "type": "treemap",
                "values": [
                 1,
                 6,
                 7,
                 9,
                 10,
                 24,
                 25,
                 53,
                 61,
                 66,
                 71,
                 87,
                 110,
                 126,
                 147,
                 434,
                 459,
                 610,
                 798,
                 925,
                 1055,
                 1213
                ]
               }
              ]
             }
            ],
            "label": "Visualizaciones de la lista de reproducción",
            "method": "update"
           }
          ],
          "showactive": true,
          "type": "dropdown"
         }
        ]
       }
      }
     },
     "metadata": {},
     "output_type": "display_data"
    },
    {
     "data": {
      "text/plain": [
       "'grafico 3 plotly.html'"
      ]
     },
     "execution_count": 12,
     "metadata": {},
     "output_type": "execute_result"
    }
   ],
   "source": [
    "#EDA 15. Playlist del canal. Cuales han sido mejores en función de varios datos\n",
    "import plotly.express as px\n",
    "import pandas as pd\n",
    "\n",
    "df = pd.read_csv('YouTube SirAlatriste Playlists.csv')\n",
    "\n",
    "# lista con las variables de color, osea con aquellas columnas que mandan los datos\n",
    "color_vars = ['Tiempo de visualización de la lista de reproducción (horas)', 'Duración media de las visualizaciones de la lista de reproducción', 'Visualizaciones de la lista de reproducción']\n",
    "\n",
    "# lista con los treemaps para cada variable de color\n",
    "treemaps = []\n",
    "for color_var in color_vars:\n",
    "    # esto cambia el DataFrame en función de la variable de color de cada variable.. he conseguido ponerlo en orden y cuadrar el texto en el centro de la celda\n",
    "    df_sorted = df.sort_values(by=color_var)\n",
    "    \n",
    "    treemap = go.Treemap(\n",
    "        labels=df_sorted['Título de la lista de reproducción'],\n",
    "        parents=[''] * len(df),\n",
    "        values=df_sorted[color_var],\n",
    "        marker=dict(colors=df_sorted[color_var], colorscale='Blues'),\n",
    "        textinfo='label+value',\n",
    "        textposition='middle center',\n",
    "        name=color_var)\n",
    "    \n",
    "    treemaps.append(treemap)\n",
    "    \n",
    "\n",
    "# MENÚ DESPEGABLE\n",
    "\n",
    "updatemenus = [dict(\n",
    "    type='dropdown',\n",
    "    showactive=True,\n",
    "    buttons=[dict(\n",
    "        label=color_var,\n",
    "        method='update',\n",
    "        args=[{'visible': [color_var == c for c in color_vars]},\n",
    "              {'data': [treemaps[color_vars.index(color_var)]]}]\n",
    "    ) for color_var in color_vars])]\n",
    "\n",
    "# layout del gráfico\n",
    "layout = go.Layout(updatemenus=updatemenus)\n",
    "\n",
    "fig = go.Figure(data=treemaps, layout=layout)\n",
    "\n",
    "fig.show()\n",
    "\n",
    "plotly.offline.plot(fig, filename='grafico 3 plotly.html')"
   ]
  }
 ],
 "metadata": {
  "kernelspec": {
   "display_name": "Python 3",
   "language": "python",
   "name": "python3"
  },
  "language_info": {
   "codemirror_mode": {
    "name": "ipython",
    "version": 3
   },
   "file_extension": ".py",
   "mimetype": "text/x-python",
   "name": "python",
   "nbconvert_exporter": "python",
   "pygments_lexer": "ipython3",
   "version": "3.11.3"
  },
  "orig_nbformat": 4
 },
 "nbformat": 4,
 "nbformat_minor": 2
}
