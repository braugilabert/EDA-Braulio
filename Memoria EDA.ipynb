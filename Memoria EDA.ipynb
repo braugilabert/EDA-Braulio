{
 "cells": [
  {
   "cell_type": "code",
   "execution_count": 7,
   "metadata": {},
   "outputs": [],
   "source": [
    "\"\"\" MEMORIA EDA Braulio:\n",
    "He hecho limpieza de datos aparte de seleccionando entre los muchísimos datos que poco a poco me iba dando YouTube, aquellos que eran más útiles de entre todos los que había; una vez he sacado los datos he eliminado de cada uno de estos las columnas que no daban juego. \n",
    "He juntado toda la información en un mismo Google Drive con varias hojas para desde ahí manejar todos los datos y no volverme loco.\n",
    "\n",
    "Cada apartado de estos implicaba un archivo de Jupyter Notebook distinto que he juntado. \n",
    "He cambiado el google sheets para que esté en formato americano para que lea los decimales con puntos... Me estaba dando muchos problemas y de hecho tenía que usar una funcion cada vez que tenía que pasar las comas a puntos...\n",
    "\n",
    "-Apartado 1: He hecho una relación entre 'Impresiones' y 'Porcentaje de clics de las impresiones'. No me detectaba al principio los floats que llevan una coma y he tenido que cambiar el codigo para que me lo leyese de mis columnas de google sheets.\n",
    "-Apartado 2: Queda claro con este gráfico cuales son los años de mayor producción del canal. He hecho anotaciones indicando el porqué de tan pocos vídeos en x años.\n",
    "-Apartado 3: para calcular el promedio me gusta no me gusta... pero no me convence esto y LO VOY A CAMBIAR\n",
    "-Apartado 4: He sacado todas las coordenadas de los paises que han visto alguna vez mi canal y lo he metido en un google sheets para poder usar folium, pero no me era compatible ya que google sheets no he conseguido que detectase las coordenadas (40.03 de latitud, por ejemplo, me lo ponia como 4.003). He conseguido hacer el folium del mapa después de tanto tiempo, el unico problemilla es que España se ve demasiado grande y el círculo no esta centrado porque ocuparia un monton. El color de los circulos es el de mi canal: '#4869e3' el verde es '#11CA38'\n",
    "-Apartado 5: He conseguido ver los datos de los sistemas operativos a través de los cuales se han visto los videos del canal. Me ha costado hacerlo y aún así no está perfecto, pero bueno esto es ya un Plotly. Lo he metido en html a la página web, me parece muy útil .\n",
    "-Apartado 6: He tenido que volver a pasar los datos de numeros con comas a numeros con puntos para que me detecte python el orden correcto de los números, está siendo una constante este problemilla que resta tiempo para otras cosas. He ordenado los valores de menor a mayor de duración media de las visualizaciones ya no puedo estar haciendo un archivo distinto de excel para cada columna... Se ve en este gráfico más claramente cual es la \"calidad\" digamos de mis vídeos.\n",
    "-Apartado 7: La verdad que este gráfico me deja con buen sabor de boca, ya que tengo al menos 8 comentarios por video aproximadamente.\n",
    "-Apartado 8: no me convence. este y el 3. si veis que es mucho dato podria no arreglarlo y ya esta. que 10 minutos no dan para mucho.\n",
    "-Apartado 9: Estuve fusionando filas de cara a que me saliese una pie decente... Pero se queda de una manera sencilla la visualizacion (que es lo importante) de cual es la edad de mi comunidad del canal.\n",
    "-Apartado 10: Después de mucho fallar poniendo los parámetros al final he conseguido plasmar las palabras que más se han repetido en los títulos de mi canal. Muy visual, podría resumirse la mitad del EDA en este gráfico.\n",
    "-Apartado 11: Visualizaciones de mis top 50 videos del canal. He tenido que acortar el titulo de los videos en la x del grafico porque hay algunos que son largos.\n",
    "-Apartado 12: heatmap de todas las variables de los datos de los videos... esto lo pondré junto a las otras que tratan el tema de los videos en particular\n",
    "-Apartado 13: origen de las suscripciones del canal con unas stacked column chart. He usado el rojo (#Ff0000) para que se vea mejor donde he perdido suscriptores.\n",
    "-Apartado 14: Días más gloriosos del canal de SirAlatriste en función de: Comentarios añadidos Suscriptores, Visualizaciones, Tiempo de visualización (horas) y Duración media de las visualizaciones... He usado lo que habia que usar, plotly, pero con markers en vez de lineas que es como lo habia usado en otro apartado\n",
    "-Apartado 15: playlist más vistas del canal. tengo ganas de saber cual es la mejor campaña que he hecho en tomas de audiencia... a mi no me gusta hacer videos sueltos sino que me gusta una serie entera para crear comunidad... me gustaria que fuese más dinamico\"\"\""
   ]
  }
 ],
 "metadata": {
  "kernelspec": {
   "display_name": "Python 3",
   "language": "python",
   "name": "python3"
  },
  "language_info": {
   "codemirror_mode": {
    "name": "ipython",
    "version": 3
   },
   "file_extension": ".py",
   "mimetype": "text/x-python",
   "name": "python",
   "nbconvert_exporter": "python",
   "pygments_lexer": "ipython3",
   "version": "3.11.3"
  },
  "orig_nbformat": 4
 },
 "nbformat": 4,
 "nbformat_minor": 2
}
